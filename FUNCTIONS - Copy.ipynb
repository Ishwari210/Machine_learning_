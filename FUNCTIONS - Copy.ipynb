{
  "nbformat": 4,
  "nbformat_minor": 0,
  "metadata": {
    "colab": {
      "provenance": []
    },
    "kernelspec": {
      "name": "python3",
      "display_name": "Python 3"
    },
    "language_info": {
      "name": "python"
    }
  },
  "cells": [
    {
      "cell_type": "markdown",
      "source": [
        "**SPLIT**\n",
        "\n",
        "1.   It is used to divide an array into multiple sub-arrays\n",
        "2.   Arguments:array,indice,axis\n",
        "3.   Array:array on which we need to split\n",
        "4.   Indice:Number on which we need to divide the array\n",
        "5.   Axis:X-axis(0),Y-axis\n",
        "6.   It divides array into equal parts or else it will raise the error\n",
        "\n"
      ],
      "metadata": {
        "id": "qUvVBeX-zClH"
      }
    },
    {
      "cell_type": "code",
      "source": [
        "import numpy as np\n",
        "array_split=np.array([1,2,3,4,5,6])\n",
        "result=np.split(array_split,3)\n",
        "print(result)"
      ],
      "metadata": {
        "colab": {
          "base_uri": "https://localhost:8080/"
        },
        "id": "Ph_Pb65R0Wr2",
        "outputId": "28f8dee7-db99-4ae8-f0ba-f433b9e8a51c"
      },
      "execution_count": 3,
      "outputs": [
        {
          "output_type": "stream",
          "name": "stdout",
          "text": [
            "[array([1, 2]), array([3, 4]), array([5, 6])]\n"
          ]
        }
      ]
    },
    {
      "cell_type": "code",
      "source": [
        "result=np.split(array_split,[1,4])\n",
        "print(result)"
      ],
      "metadata": {
        "colab": {
          "base_uri": "https://localhost:8080/"
        },
        "id": "U7OrQItW0XE3",
        "outputId": "71b10ccc-678d-4926-93aa-4af78c30c824"
      },
      "execution_count": 4,
      "outputs": [
        {
          "output_type": "stream",
          "name": "stdout",
          "text": [
            "[array([1]), array([2, 3, 4]), array([5, 6])]\n"
          ]
        }
      ]
    },
    {
      "cell_type": "code",
      "source": [
        "array_2d=np.array([[1,2,3,4],[5,6,7,8]])\n",
        "result=np.split(array_2d, 2,axis=0)\n",
        "print(result)"
      ],
      "metadata": {
        "colab": {
          "base_uri": "https://localhost:8080/"
        },
        "id": "O7u_UHO_zFxQ",
        "outputId": "247e33af-af2f-4789-8ad6-194207d6a413"
      },
      "execution_count": 8,
      "outputs": [
        {
          "output_type": "stream",
          "name": "stdout",
          "text": [
            "[array([[1, 2, 3, 4]]), array([[5, 6, 7, 8]])]\n"
          ]
        }
      ]
    },
    {
      "cell_type": "code",
      "source": [
        "result=np.split(array_2d,2,axis=1)\n",
        "print(result)"
      ],
      "metadata": {
        "colab": {
          "base_uri": "https://localhost:8080/"
        },
        "id": "sm9fVEoj1y1C",
        "outputId": "a1640e78-b1ac-4213-b5a0-9aba7edbbfb1"
      },
      "execution_count": 10,
      "outputs": [
        {
          "output_type": "stream",
          "name": "stdout",
          "text": [
            "[array([[1, 2],\n",
            "       [5, 6]]), array([[3, 4],\n",
            "       [7, 8]])]\n"
          ]
        }
      ]
    },
    {
      "cell_type": "code",
      "source": [
        "result=np.split(array_2d,[1,3],axis=1)\n",
        "print(result)"
      ],
      "metadata": {
        "colab": {
          "base_uri": "https://localhost:8080/"
        },
        "id": "hQ4zCnP31-2O",
        "outputId": "9b98c26d-6d49-48c5-a4f5-1604b8bbd182"
      },
      "execution_count": 11,
      "outputs": [
        {
          "output_type": "stream",
          "name": "stdout",
          "text": [
            "[array([[1],\n",
            "       [5]]), array([[2, 3],\n",
            "       [6, 7]]), array([[4],\n",
            "       [8]])]\n"
          ]
        }
      ]
    },
    {
      "cell_type": "markdown",
      "source": [
        "**ARRAY_SPLIT**\n",
        "\n",
        "*   To distribute elements into unequal parts\n",
        "\n",
        "\n"
      ],
      "metadata": {
        "id": "CtU_vtot2t7n"
      }
    },
    {
      "cell_type": "code",
      "source": [
        "array_uneven=np.array([1,2,3,4,5,6,7,8])\n",
        "result=np.array_split(array_uneven,3)\n",
        "print(result)"
      ],
      "metadata": {
        "colab": {
          "base_uri": "https://localhost:8080/"
        },
        "id": "VGETXMc02KLH",
        "outputId": "bd990d79-7ac8-43ae-83ff-663932a45a1d"
      },
      "execution_count": 12,
      "outputs": [
        {
          "output_type": "stream",
          "name": "stdout",
          "text": [
            "[array([1, 2, 3]), array([4, 5, 6]), array([7, 8])]\n"
          ]
        }
      ]
    },
    {
      "cell_type": "markdown",
      "source": [
        "**SHAPE**\n",
        "\n",
        "\n",
        "*   It just shows the shape of the array,specificially it shows the dimension of the array\n",
        "*   It will return a tuple with each element represents the size of the array\n",
        "\n"
      ],
      "metadata": {
        "id": "nkAh8V683Ha6"
      }
    },
    {
      "cell_type": "code",
      "source": [
        "array_1d=np.array([1,2,3,4])\n",
        "print(\"one dimension\",array_1d.shape)"
      ],
      "metadata": {
        "colab": {
          "base_uri": "https://localhost:8080/"
        },
        "id": "RvizjO0M3hrg",
        "outputId": "15deff37-8df5-42ae-d6ae-9f419c41018c"
      },
      "execution_count": 13,
      "outputs": [
        {
          "output_type": "stream",
          "name": "stdout",
          "text": [
            "one dimension (4,)\n"
          ]
        }
      ]
    },
    {
      "cell_type": "code",
      "source": [
        "array_2d=np.array([[1,2,3,4],[5,6,7,8]])\n",
        "print(\"two dimension\",array_2d.shape)"
      ],
      "metadata": {
        "colab": {
          "base_uri": "https://localhost:8080/"
        },
        "id": "1fbQsWXh3x-R",
        "outputId": "6adf5eb8-2b4b-4cf2-ae71-2f3003098185"
      },
      "execution_count": 14,
      "outputs": [
        {
          "output_type": "stream",
          "name": "stdout",
          "text": [
            "two dimension (2, 4)\n"
          ]
        }
      ]
    },
    {
      "cell_type": "markdown",
      "source": [
        "**RESHAPE**\n",
        "\n",
        "\n",
        "*   It changes the shape of the ndArray,though it doesn't modify any data.It will return array with a specified shape\n",
        "*   Specified new shape should be compatible with the total number of elements in the new array\n",
        "\n"
      ],
      "metadata": {
        "id": "iEsCvu2-4DTs"
      }
    },
    {
      "cell_type": "code",
      "source": [
        "reshape_array=np.array([1,2,3,4,5,6])\n",
        "result=reshape_array.reshape(6,1)\n",
        "print(result)"
      ],
      "metadata": {
        "colab": {
          "base_uri": "https://localhost:8080/"
        },
        "id": "5vanqEIi4jQr",
        "outputId": "7aba28dc-3252-4d91-d376-5049bbcc4198"
      },
      "execution_count": 15,
      "outputs": [
        {
          "output_type": "stream",
          "name": "stdout",
          "text": [
            "[[1]\n",
            " [2]\n",
            " [3]\n",
            " [4]\n",
            " [5]\n",
            " [6]]\n"
          ]
        }
      ]
    },
    {
      "cell_type": "code",
      "source": [
        "result=reshape_array.reshape(2,-1)\n",
        "print(result)"
      ],
      "metadata": {
        "colab": {
          "base_uri": "https://localhost:8080/"
        },
        "id": "j5uAWFpd44hR",
        "outputId": "1a5057c7-cad4-4f87-8642-058f1b3b5a65"
      },
      "execution_count": 16,
      "outputs": [
        {
          "output_type": "stream",
          "name": "stdout",
          "text": [
            "[[1 2 3]\n",
            " [4 5 6]]\n"
          ]
        }
      ]
    },
    {
      "cell_type": "markdown",
      "source": [
        "**2d and 3d Array Reshaping**"
      ],
      "metadata": {
        "id": "nr03n2tc5HYo"
      }
    },
    {
      "cell_type": "code",
      "source": [
        "array_2d=np.array([[1,2,3],[4,5,6]])\n",
        "print(array_2d.shape)\n",
        "array_reshaped=array_2d.reshape(2,3,1)\n",
        "print(array_reshaped)"
      ],
      "metadata": {
        "colab": {
          "base_uri": "https://localhost:8080/"
        },
        "id": "6ZKpiz5u5NXn",
        "outputId": "f0cbc4e1-3b53-4301-81fc-5e1de7904041"
      },
      "execution_count": 17,
      "outputs": [
        {
          "output_type": "stream",
          "name": "stdout",
          "text": [
            "(2, 3)\n",
            "[[[1]\n",
            "  [2]\n",
            "  [3]]\n",
            "\n",
            " [[4]\n",
            "  [5]\n",
            "  [6]]]\n"
          ]
        }
      ]
    },
    {
      "cell_type": "markdown",
      "source": [
        "**ITERATION**\n",
        "\n",
        "\n",
        "*   To loop over array element-wise\n",
        "*   for.....loop,nditer: To iterate over the array\n",
        "\n"
      ],
      "metadata": {
        "id": "SZv8NZzL5kUp"
      }
    },
    {
      "cell_type": "code",
      "source": [
        "array_1d=np.array([1,2,3,4,5,6])\n",
        "for i in array_1d:\n",
        "  print(i)"
      ],
      "metadata": {
        "colab": {
          "base_uri": "https://localhost:8080/"
        },
        "id": "0Dpjei_h53Py",
        "outputId": "9494a306-6a75-437b-e1f1-77648791eb0b"
      },
      "execution_count": 18,
      "outputs": [
        {
          "output_type": "stream",
          "name": "stdout",
          "text": [
            "1\n",
            "2\n",
            "3\n",
            "4\n",
            "5\n",
            "6\n"
          ]
        }
      ]
    },
    {
      "cell_type": "code",
      "source": [
        "array_2d=np.array([[1,2,3],[4,5,6]])\n",
        "for i in array_2d:\n",
        "  for j in i:\n",
        "    print(j)\n",
        ""
      ],
      "metadata": {
        "colab": {
          "base_uri": "https://localhost:8080/"
        },
        "id": "JiUlRoEL6CUr",
        "outputId": "05c2808b-1fd8-44fb-d698-c0f69bdf2320"
      },
      "execution_count": 19,
      "outputs": [
        {
          "output_type": "stream",
          "name": "stdout",
          "text": [
            "1\n",
            "2\n",
            "3\n",
            "4\n",
            "5\n",
            "6\n"
          ]
        }
      ]
    },
    {
      "cell_type": "code",
      "source": [
        "array_3d=np.array([[[1,2,3],[4,5,6]]])\n",
        "for i in array_3d:\n",
        "  for j in i:\n",
        "    for k in j:\n",
        "      print(k)"
      ],
      "metadata": {
        "colab": {
          "base_uri": "https://localhost:8080/"
        },
        "id": "7GadkEKs6Ti-",
        "outputId": "2fbeac61-3f9f-412c-d2f9-533f449c25af"
      },
      "execution_count": 20,
      "outputs": [
        {
          "output_type": "stream",
          "name": "stdout",
          "text": [
            "1\n",
            "2\n",
            "3\n",
            "4\n",
            "5\n",
            "6\n"
          ]
        }
      ]
    },
    {
      "cell_type": "code",
      "source": [
        "for i in np.nditer(array_3d):\n",
        "  print(i)"
      ],
      "metadata": {
        "colab": {
          "base_uri": "https://localhost:8080/"
        },
        "id": "CYmYKdBb6mqo",
        "outputId": "9dfc0a86-7875-4809-fce5-c4d3edca2db6"
      },
      "execution_count": 21,
      "outputs": [
        {
          "output_type": "stream",
          "name": "stdout",
          "text": [
            "1\n",
            "2\n",
            "3\n",
            "4\n",
            "5\n",
            "6\n"
          ]
        }
      ]
    },
    {
      "cell_type": "markdown",
      "source": [
        "**JOIN**\n",
        "\n",
        "\n",
        "\n",
        "1.   Methods to join arrays together\n",
        "2.   Concatenation\n",
        "3.   Stack\n",
        "4.   Vstack\n",
        "5.   HStack\n",
        "6.   DStack\n",
        "\n"
      ],
      "metadata": {
        "id": "Y-R_7tOP78kF"
      }
    },
    {
      "cell_type": "markdown",
      "source": [
        "Concatenation\n",
        "\n",
        "\n",
        "*   It joins two arrays along any axis. This method supports multiple arrays.\n",
        "np.concatenation(array1,array2........arrayN,axis=0,out=None)\n",
        "*   array1......arrayN: List of arrays which are supposed to be concatenated\n",
        "*   axis: Dimension,(Rows,Column)\n",
        "*   out:After concatenation,where do we want to store the results\n",
        "*   Axis 1:Horizontally,Column\n",
        "*   Axis 0:Vertically,Row\n",
        "\n"
      ],
      "metadata": {
        "id": "Nx-QGXR88XKf"
      }
    },
    {
      "cell_type": "code",
      "source": [
        "array_1=np.array([1,2,3,4])\n",
        "array_2=np.array([5,6,7,8])\n",
        "result=np.concatenate((array_1,array_2),axis=0)\n",
        "print(result)"
      ],
      "metadata": {
        "colab": {
          "base_uri": "https://localhost:8080/"
        },
        "id": "WBLA0-Ba9ZYI",
        "outputId": "36b033d1-2a68-4e9d-96b5-f99816976345"
      },
      "execution_count": 22,
      "outputs": [
        {
          "output_type": "stream",
          "name": "stdout",
          "text": [
            "[1 2 3 4 5 6 7 8]\n"
          ]
        }
      ]
    },
    {
      "cell_type": "markdown",
      "source": [
        "**2d Array**"
      ],
      "metadata": {
        "id": "NFOHiWF-9yrp"
      }
    },
    {
      "cell_type": "code",
      "source": [
        "array2d_1=np.array([[1,2,3,4,5],[6,7,8,9,10]])\n",
        "array2d_2=np.array([[1,2,3,4,5],[6,7,8,9,10]])\n",
        "result=np.concatenate((array2d_1,array2d_2),axis=1)\n",
        "print(result)"
      ],
      "metadata": {
        "colab": {
          "base_uri": "https://localhost:8080/"
        },
        "id": "yauErCo9911d",
        "outputId": "84dd5fe7-4916-4be9-ad12-e714f08de79e"
      },
      "execution_count": 25,
      "outputs": [
        {
          "output_type": "stream",
          "name": "stdout",
          "text": [
            "[[ 1  2  3  4  5  1  2  3  4  5]\n",
            " [ 6  7  8  9 10  6  7  8  9 10]]\n"
          ]
        }
      ]
    },
    {
      "cell_type": "markdown",
      "source": [
        "**STACK**\n",
        "\n",
        "\n",
        "*   Stack also joins the array but along the new axis\n",
        "*   Arrays: List of arrays to be stacked\n",
        "*   Axis: Dimensions along which to stack\n",
        "*   out: Optional, where to store result\n",
        "\n"
      ],
      "metadata": {
        "id": "AzL44shD_SYC"
      }
    },
    {
      "cell_type": "code",
      "source": [
        "array1 =np.array([1,2,3,4,5])\n",
        "array2=np.array([6,7,8,9,10])\n",
        "result=np.stack((array1,array2),axis=0)\n",
        "print(result)"
      ],
      "metadata": {
        "colab": {
          "base_uri": "https://localhost:8080/"
        },
        "id": "wiDLZ8jU_xLV",
        "outputId": "aa9c6283-801d-4f8d-f7c6-17f448a1e531"
      },
      "execution_count": 26,
      "outputs": [
        {
          "output_type": "stream",
          "name": "stdout",
          "text": [
            "[[ 1  2  3  4  5]\n",
            " [ 6  7  8  9 10]]\n"
          ]
        }
      ]
    },
    {
      "cell_type": "markdown",
      "source": [
        "**HSTACK**\n",
        "\n",
        "\n",
        "*   HStack is used to stack arrays list horizontally(Axis 1).\n",
        "*   It is equal to concatenate() function with axis=1\n",
        "\n"
      ],
      "metadata": {
        "id": "UiLCMRtnAOwz"
      }
    },
    {
      "cell_type": "code",
      "source": [
        "array1 =np.array([1,2,3,4,5])\n",
        "array2=np.array([6,7,8,9,10])\n",
        "result=np.hstack((array1,array2))\n",
        "print(result)"
      ],
      "metadata": {
        "colab": {
          "base_uri": "https://localhost:8080/"
        },
        "id": "-reNPa2I6x9j",
        "outputId": "c032727c-ef47-4a5c-9206-b197dcc9b567"
      },
      "execution_count": 27,
      "outputs": [
        {
          "output_type": "stream",
          "name": "stdout",
          "text": [
            "[ 1  2  3  4  5  6  7  8  9 10]\n"
          ]
        }
      ]
    },
    {
      "cell_type": "markdown",
      "source": [
        "**VStack**\n",
        "\n",
        "\n",
        "*   VStack is used to stack array list vertically(Axis=0).\n",
        "*   It is equal to concatenate() function with axis=0\n",
        "\n"
      ],
      "metadata": {
        "id": "9X-760vsAv3G"
      }
    },
    {
      "cell_type": "code",
      "source": [
        "array1=np.array([1,2,3,4,5])\n",
        "array2=np.array([5,6,7,8,9])\n",
        "result=np.vstack((array1,array2))\n",
        "print(result)"
      ],
      "metadata": {
        "colab": {
          "base_uri": "https://localhost:8080/"
        },
        "id": "aWUcQLfkBNcX",
        "outputId": "f36aaeb1-9650-4400-cba0-f08eb050864c"
      },
      "execution_count": 28,
      "outputs": [
        {
          "output_type": "stream",
          "name": "stdout",
          "text": [
            "[[1 2 3 4 5]\n",
            " [5 6 7 8 9]]\n"
          ]
        }
      ]
    },
    {
      "cell_type": "markdown",
      "source": [
        "**DSTACK**\n",
        "\n",
        "\n",
        "*   DStack function will be used when we are working on 3D or 3rd Axis\n",
        "\n",
        "\n"
      ],
      "metadata": {
        "id": "5o1FHne4BiM5"
      }
    },
    {
      "cell_type": "code",
      "source": [
        "array1=np.array([[1,2,3,4,5],[1,2,3,4,5]])\n",
        "array2=np.array([[26,27,58,39,10],[21,22,23,44,25]])\n",
        "result=np.dstack((array1,array2))\n",
        "print(result)"
      ],
      "metadata": {
        "colab": {
          "base_uri": "https://localhost:8080/"
        },
        "id": "7vSkbuMMCF0R",
        "outputId": "6113f502-bccc-4b6a-df6a-2f8f0f3acea9"
      },
      "execution_count": 29,
      "outputs": [
        {
          "output_type": "stream",
          "name": "stdout",
          "text": [
            "[[[ 1 26]\n",
            "  [ 2 27]\n",
            "  [ 3 58]\n",
            "  [ 4 39]\n",
            "  [ 5 10]]\n",
            "\n",
            " [[ 1 21]\n",
            "  [ 2 22]\n",
            "  [ 3 23]\n",
            "  [ 4 44]\n",
            "  [ 5 25]]]\n"
          ]
        }
      ]
    }
  ]
}
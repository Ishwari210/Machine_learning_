{
  "nbformat": 4,
  "nbformat_minor": 0,
  "metadata": {
    "colab": {
      "provenance": []
    },
    "kernelspec": {
      "name": "python3",
      "display_name": "Python 3"
    },
    "language_info": {
      "name": "python"
    }
  },
  "cells": [
    {
      "cell_type": "markdown",
      "source": [
        "**SORT**\n",
        "\n",
        "\n",
        "*   Sort is for sorting array as per specified data\n",
        "*   Array:Array on which we have to perform the sorting\n",
        "*   Axis:Axis along which to sort,Default=-1\n",
        "*   Algorithm: Sorting algorithm:'quicksort','mergesort','heapsort','stable'\n",
        "*   Order:In which order we need to sort\n",
        "\n"
      ],
      "metadata": {
        "id": "5L46WZTIYe2p"
      }
    },
    {
      "cell_type": "code",
      "source": [
        "import numpy as np\n",
        "array=np.array([5,5,2,1,6])\n",
        "sorted_array=np.sort(array)\n",
        "print(sorted_array)"
      ],
      "metadata": {
        "colab": {
          "base_uri": "https://localhost:8080/"
        },
        "id": "yzZSaFFPY9pv",
        "outputId": "47584bd6-d6cb-4c44-aab5-8985fff142a0"
      },
      "execution_count": 1,
      "outputs": [
        {
          "output_type": "stream",
          "name": "stdout",
          "text": [
            "[1 2 5 5 6]\n"
          ]
        }
      ]
    },
    {
      "cell_type": "code",
      "source": [
        "array=np.array(['a','b','c','d'])\n",
        "sorted_array=np.sort(array)\n",
        "print(sorted_array)"
      ],
      "metadata": {
        "colab": {
          "base_uri": "https://localhost:8080/"
        },
        "id": "8jdlEvxJZqQD",
        "outputId": "c7edf990-6e83-475f-bf09-28f48542eaea"
      },
      "execution_count": 2,
      "outputs": [
        {
          "output_type": "stream",
          "name": "stdout",
          "text": [
            "['a' 'b' 'c' 'd']\n"
          ]
        }
      ]
    },
    {
      "cell_type": "code",
      "source": [
        "array=np.array([5,5,2,3,6,7])\n",
        "sorted_array=np.sort(array,kind='quicksort')\n",
        "print(sorted_array)"
      ],
      "metadata": {
        "colab": {
          "base_uri": "https://localhost:8080/"
        },
        "id": "m6w2DotMZ-zV",
        "outputId": "188d0fc9-2483-4d51-f495-03cf07247689"
      },
      "execution_count": 3,
      "outputs": [
        {
          "output_type": "stream",
          "name": "stdout",
          "text": [
            "[2 3 5 5 6 7]\n"
          ]
        }
      ]
    },
    {
      "cell_type": "code",
      "source": [
        "array=np.array([[5,5,2,3,6,7],[10,11,2,3,7,2]])\n",
        "sorted_array=np.sort(array,axis=1,kind='quicksort')\n",
        "print(sorted_array)"
      ],
      "metadata": {
        "colab": {
          "base_uri": "https://localhost:8080/"
        },
        "id": "-tACYHMmbeLm",
        "outputId": "8e15fa32-fede-4ff2-cb44-94b7d444c27e"
      },
      "execution_count": 6,
      "outputs": [
        {
          "output_type": "stream",
          "name": "stdout",
          "text": [
            "[[ 2  3  5  5  6  7]\n",
            " [ 2  2  3  7 10 11]]\n"
          ]
        }
      ]
    },
    {
      "cell_type": "code",
      "source": [
        "array=np.array([[5,5,2,3,6,7],[10,11,2,3,7,2]])\n",
        "sorted_array=np.sort(array,axis=None,kind='quicksort')\n",
        "print(sorted_array)"
      ],
      "metadata": {
        "colab": {
          "base_uri": "https://localhost:8080/"
        },
        "id": "9yc9Xh12b0_5",
        "outputId": "7f4cd0fd-f338-46ce-8e26-87904bd315ba"
      },
      "execution_count": 7,
      "outputs": [
        {
          "output_type": "stream",
          "name": "stdout",
          "text": [
            "[ 2  2  2  3  3  5  5  6  7  7 10 11]\n"
          ]
        }
      ]
    },
    {
      "cell_type": "code",
      "source": [
        "array=np.array([[5,5,2,3,6,7],[10,11,2,3,7,2]])\n",
        "sorted_array=np.sort(array[1:])\n",
        "print(sorted_array)"
      ],
      "metadata": {
        "colab": {
          "base_uri": "https://localhost:8080/"
        },
        "id": "H3uDjzhXb6sI",
        "outputId": "1cd8ad8b-b1e7-47d5-a2d6-db8761b32002"
      },
      "execution_count": 8,
      "outputs": [
        {
          "output_type": "stream",
          "name": "stdout",
          "text": [
            "[[ 2  2  3  7 10 11]]\n"
          ]
        }
      ]
    },
    {
      "cell_type": "code",
      "source": [
        "array=np.array([('A',2),('B',7)],dtype=[('letter','U1'),('number','i4')])\n",
        "print(array)\n",
        "sorted_numbers=np.sort(array,order='letter')\n",
        "print(sorted_numbers)"
      ],
      "metadata": {
        "colab": {
          "base_uri": "https://localhost:8080/"
        },
        "id": "_Q4pHlgocKAT",
        "outputId": "972e0158-4aba-4eba-d017-cf79ad6d7e7f"
      },
      "execution_count": 9,
      "outputs": [
        {
          "output_type": "stream",
          "name": "stdout",
          "text": [
            "[('A', 2) ('B', 7)]\n",
            "[('A', 2) ('B', 7)]\n"
          ]
        }
      ]
    },
    {
      "cell_type": "markdown",
      "source": [
        "**FILTER**\n",
        "* To filter the elements of the array\n",
        "* To filter elements based on conditions we use filters,Condition:True,False"
      ],
      "metadata": {
        "id": "P_2BpcUEc69_"
      }
    },
    {
      "cell_type": "code",
      "source": [
        "array=np.array([1,2,3,4,5,6,7])\n",
        "filtered_array=array[array>5]\n",
        "print(filtered_array)"
      ],
      "metadata": {
        "colab": {
          "base_uri": "https://localhost:8080/"
        },
        "id": "8aSn6tT-daCP",
        "outputId": "609d01e5-5963-4504-d074-41f91e62ab22"
      },
      "execution_count": 10,
      "outputs": [
        {
          "output_type": "stream",
          "name": "stdout",
          "text": [
            "[6 7]\n"
          ]
        }
      ]
    },
    {
      "cell_type": "markdown",
      "source": [
        "**Where**"
      ],
      "metadata": {
        "id": "5R4FZUz-d9YZ"
      }
    },
    {
      "cell_type": "code",
      "source": [
        "array=np.array([1,2,3,4,5,6,7,8,9])\n",
        "filtered_array=np.where(array>20)\n",
        "print(filtered_array)"
      ],
      "metadata": {
        "colab": {
          "base_uri": "https://localhost:8080/"
        },
        "id": "bb7k8aPAd7XY",
        "outputId": "5f56b4b2-69cb-4ea4-de08-5d79620ad4fd"
      },
      "execution_count": 13,
      "outputs": [
        {
          "output_type": "stream",
          "name": "stdout",
          "text": [
            "(array([], dtype=int64),)\n"
          ]
        }
      ]
    },
    {
      "cell_type": "markdown",
      "source": [
        "LOGICAL METHODS FOR CONDITION\n",
        "* logical_and\n",
        "* logical_or"
      ],
      "metadata": {
        "id": "4v286bDGiCyd"
      }
    },
    {
      "cell_type": "code",
      "source": [
        "array=np.array([255,234,23,244,24,12])\n",
        "filtered_array=array[np.logical_and(array>10,array<100)]\n",
        "print(filtered_array)"
      ],
      "metadata": {
        "colab": {
          "base_uri": "https://localhost:8080/"
        },
        "id": "uC37eC71iNJ-",
        "outputId": "7b72dd06-bce7-44dc-e8ed-bdcd5e1fd23b"
      },
      "execution_count": 15,
      "outputs": [
        {
          "output_type": "stream",
          "name": "stdout",
          "text": [
            "[23 24 12]\n"
          ]
        }
      ]
    },
    {
      "cell_type": "markdown",
      "source": [
        "**COPY**\n",
        "* This method is used for copying the array into another variable.Generally for avoiding processing on original dataset"
      ],
      "metadata": {
        "id": "EU5BD3kkix9x"
      }
    },
    {
      "cell_type": "code",
      "source": [
        "array=np.array([1,2,3,4,5])\n",
        "array_2=np.copy(array)\n",
        "array_2[1]=12\n",
        "print(\"copied:\",array_2)\n",
        "print(\"original:\",array)"
      ],
      "metadata": {
        "colab": {
          "base_uri": "https://localhost:8080/"
        },
        "id": "AxKKYB91jF8Z",
        "outputId": "53b05b13-4779-4694-b2fc-49bebb56c079"
      },
      "execution_count": 16,
      "outputs": [
        {
          "output_type": "stream",
          "name": "stdout",
          "text": [
            "copied: [ 1 12  3  4  5]\n",
            "original: [1 2 3 4 5]\n"
          ]
        }
      ]
    },
    {
      "cell_type": "markdown",
      "source": [
        "ARANGE\n",
        "* It is to create/generate array with evenly spaced values\n",
        "* Start:From where to start the values\n",
        "* Stop:Until which value\n",
        "* Step:Difference between each consecutive value"
      ],
      "metadata": {
        "id": "SzRzzOw9jj-2"
      }
    },
    {
      "cell_type": "code",
      "source": [
        "array=np.arange(10)\n",
        "print(array)"
      ],
      "metadata": {
        "colab": {
          "base_uri": "https://localhost:8080/"
        },
        "id": "LBVUB1oqivVf",
        "outputId": "961a8e1a-ebc6-448a-cc3c-4c23fc34c993"
      },
      "execution_count": 17,
      "outputs": [
        {
          "output_type": "stream",
          "name": "stdout",
          "text": [
            "[0 1 2 3 4 5 6 7 8 9]\n"
          ]
        }
      ]
    },
    {
      "cell_type": "code",
      "source": [
        "array=np.arange(5,14)\n",
        "print(array)"
      ],
      "metadata": {
        "colab": {
          "base_uri": "https://localhost:8080/"
        },
        "id": "icZWN-xxkJB9",
        "outputId": "36020c79-f90d-4f41-da16-97d58f49d1bb"
      },
      "execution_count": 18,
      "outputs": [
        {
          "output_type": "stream",
          "name": "stdout",
          "text": [
            "[ 5  6  7  8  9 10 11 12 13]\n"
          ]
        }
      ]
    },
    {
      "cell_type": "code",
      "source": [
        "array=np.arange(2,100,3)\n",
        "print(array)"
      ],
      "metadata": {
        "colab": {
          "base_uri": "https://localhost:8080/"
        },
        "id": "xhXEXwnMkPMF",
        "outputId": "d6fb340c-ec26-46f2-fb64-9a6102f80252"
      },
      "execution_count": 19,
      "outputs": [
        {
          "output_type": "stream",
          "name": "stdout",
          "text": [
            "[ 2  5  8 11 14 17 20 23 26 29 32 35 38 41 44 47 50 53 56 59 62 65 68 71\n",
            " 74 77 80 83 86 89 92 95 98]\n"
          ]
        }
      ]
    },
    {
      "cell_type": "code",
      "source": [
        "array=np.arange(2,100,-1)\n",
        "print(array)"
      ],
      "metadata": {
        "colab": {
          "base_uri": "https://localhost:8080/"
        },
        "id": "F-koW6SdkYOq",
        "outputId": "2d12464f-1caa-452c-e72b-e23c8c4e00ef"
      },
      "execution_count": 20,
      "outputs": [
        {
          "output_type": "stream",
          "name": "stdout",
          "text": [
            "[]\n"
          ]
        }
      ]
    },
    {
      "cell_type": "code",
      "source": [
        "array=np.arange(100,2,-1)\n",
        "print(array)"
      ],
      "metadata": {
        "colab": {
          "base_uri": "https://localhost:8080/"
        },
        "id": "76Lg_MGvkgja",
        "outputId": "a5f9ed0f-606c-4665-edf4-6465f590ac65"
      },
      "execution_count": 21,
      "outputs": [
        {
          "output_type": "stream",
          "name": "stdout",
          "text": [
            "[100  99  98  97  96  95  94  93  92  91  90  89  88  87  86  85  84  83\n",
            "  82  81  80  79  78  77  76  75  74  73  72  71  70  69  68  67  66  65\n",
            "  64  63  62  61  60  59  58  57  56  55  54  53  52  51  50  49  48  47\n",
            "  46  45  44  43  42  41  40  39  38  37  36  35  34  33  32  31  30  29\n",
            "  28  27  26  25  24  23  22  21  20  19  18  17  16  15  14  13  12  11\n",
            "  10   9   8   7   6   5   4   3]\n"
          ]
        }
      ]
    },
    {
      "cell_type": "code",
      "source": [
        "array=np.arange(0,10,1.5,dtype=float)\n",
        "print(array)"
      ],
      "metadata": {
        "colab": {
          "base_uri": "https://localhost:8080/"
        },
        "id": "bZLmjjyKkmvl",
        "outputId": "57fffed7-6ff4-4dee-a841-aec4f986af2c"
      },
      "execution_count": 22,
      "outputs": [
        {
          "output_type": "stream",
          "name": "stdout",
          "text": [
            "[0.  1.5 3.  4.5 6.  7.5 9. ]\n"
          ]
        }
      ]
    },
    {
      "cell_type": "code",
      "source": [
        "array_1=np.arange(2,10,1)\n",
        "array_2=np.arange(10,2,-1)\n",
        "array_2d=np.meshgrid(array_1,array_2)\n",
        "print(array_2d)"
      ],
      "metadata": {
        "colab": {
          "base_uri": "https://localhost:8080/"
        },
        "id": "Po_7tdv7kwCm",
        "outputId": "32cf53f6-8b8a-4263-bbf2-da4197fa0b38"
      },
      "execution_count": 23,
      "outputs": [
        {
          "output_type": "stream",
          "name": "stdout",
          "text": [
            "[array([[2, 3, 4, 5, 6, 7, 8, 9],\n",
            "       [2, 3, 4, 5, 6, 7, 8, 9],\n",
            "       [2, 3, 4, 5, 6, 7, 8, 9],\n",
            "       [2, 3, 4, 5, 6, 7, 8, 9],\n",
            "       [2, 3, 4, 5, 6, 7, 8, 9],\n",
            "       [2, 3, 4, 5, 6, 7, 8, 9],\n",
            "       [2, 3, 4, 5, 6, 7, 8, 9],\n",
            "       [2, 3, 4, 5, 6, 7, 8, 9]]), array([[10, 10, 10, 10, 10, 10, 10, 10],\n",
            "       [ 9,  9,  9,  9,  9,  9,  9,  9],\n",
            "       [ 8,  8,  8,  8,  8,  8,  8,  8],\n",
            "       [ 7,  7,  7,  7,  7,  7,  7,  7],\n",
            "       [ 6,  6,  6,  6,  6,  6,  6,  6],\n",
            "       [ 5,  5,  5,  5,  5,  5,  5,  5],\n",
            "       [ 4,  4,  4,  4,  4,  4,  4,  4],\n",
            "       [ 3,  3,  3,  3,  3,  3,  3,  3]])]\n"
          ]
        }
      ]
    },
    {
      "cell_type": "code",
      "source": [
        "array=np.arange(10)\n",
        "for i in array:\n",
        "  print(i)"
      ],
      "metadata": {
        "colab": {
          "base_uri": "https://localhost:8080/"
        },
        "id": "xK01gzZxlDJ8",
        "outputId": "3bfb0c6f-d7ab-4c14-8fe0-208f9f120b7f"
      },
      "execution_count": 24,
      "outputs": [
        {
          "output_type": "stream",
          "name": "stdout",
          "text": [
            "0\n",
            "1\n",
            "2\n",
            "3\n",
            "4\n",
            "5\n",
            "6\n",
            "7\n",
            "8\n",
            "9\n"
          ]
        }
      ]
    },
    {
      "cell_type": "markdown",
      "source": [
        "**SEARCH**\n",
        "* It is used to search elements in numpy array\n",
        "* where\n",
        "* searchsorted\n",
        "* nonzero\n",
        "* argmax\n",
        "* argmin\n",
        "* flatnonzero\n",
        "* extract"
      ],
      "metadata": {
        "id": "-iQzhz5ZlUqJ"
      }
    },
    {
      "cell_type": "markdown",
      "source": [
        "**SearchSorted**\n",
        "* Sorted_Array: 1D Array\n",
        "* Value:Value for searching\n",
        "* Side:'left'or'right'\n"
      ],
      "metadata": {
        "id": "nVbozL4Klp-J"
      }
    },
    {
      "cell_type": "code",
      "source": [
        "array=np.array([1,2,3,4,5,6])\n",
        "indices=np.searchsorted(array,[7])\n",
        "print(indices)"
      ],
      "metadata": {
        "colab": {
          "base_uri": "https://localhost:8080/"
        },
        "id": "y7vys1QElQbI",
        "outputId": "82eca7e5-c338-4aa6-bad4-4183231c5ea0"
      },
      "execution_count": 26,
      "outputs": [
        {
          "output_type": "stream",
          "name": "stdout",
          "text": [
            "[6]\n"
          ]
        }
      ]
    },
    {
      "cell_type": "markdown",
      "source": [
        "**Non-Zeros**"
      ],
      "metadata": {
        "id": "9AtbVztgmf-i"
      }
    },
    {
      "cell_type": "code",
      "source": [
        "array=np.array([0,0,0,0,1,1,1,1,0,1])\n",
        "nonzero_array=np.nonzero(array)\n",
        "print(nonzero_array)"
      ],
      "metadata": {
        "colab": {
          "base_uri": "https://localhost:8080/"
        },
        "id": "9fyGDIa8mV6C",
        "outputId": "35ff7cf0-52a6-47bb-e540-8a2a52343fde"
      },
      "execution_count": 27,
      "outputs": [
        {
          "output_type": "stream",
          "name": "stdout",
          "text": [
            "(array([4, 5, 6, 7, 9]),)\n"
          ]
        }
      ]
    },
    {
      "cell_type": "markdown",
      "source": [
        "**Argmin,Argmax**"
      ],
      "metadata": {
        "id": "_7TS7RXlmvfm"
      }
    },
    {
      "cell_type": "code",
      "source": [
        "array=np.argmin([2,4,4,3,3,33,213,2323])\n",
        "print(array)"
      ],
      "metadata": {
        "colab": {
          "base_uri": "https://localhost:8080/"
        },
        "id": "7Is_ot-amzEU",
        "outputId": "faa880cc-5ea3-4bf8-c898-03fc40fef5dd"
      },
      "execution_count": 29,
      "outputs": [
        {
          "output_type": "stream",
          "name": "stdout",
          "text": [
            "0\n"
          ]
        }
      ]
    },
    {
      "cell_type": "code",
      "source": [
        "array=np.argmax([2,4,4,3,3,33,213,2323])\n",
        "print(array)"
      ],
      "metadata": {
        "colab": {
          "base_uri": "https://localhost:8080/"
        },
        "id": "QCo1mVLtm97j",
        "outputId": "8a984739-7336-497d-d5ca-2195281755a9"
      },
      "execution_count": 30,
      "outputs": [
        {
          "output_type": "stream",
          "name": "stdout",
          "text": [
            "7\n"
          ]
        }
      ]
    },
    {
      "cell_type": "markdown",
      "source": [
        "**EXTRACT**\n",
        "* It will return the value from the array"
      ],
      "metadata": {
        "id": "tlitsqrhnBzV"
      }
    },
    {
      "cell_type": "code",
      "source": [
        "array=np.array([10,20,30,40,50,60])\n",
        "result=np.extract(array>20,array)\n",
        "print(result)"
      ],
      "metadata": {
        "colab": {
          "base_uri": "https://localhost:8080/"
        },
        "id": "IOijH0_tnZ6o",
        "outputId": "326fd085-1253-4b1d-d91f-bf59048a2814"
      },
      "execution_count": 31,
      "outputs": [
        {
          "output_type": "stream",
          "name": "stdout",
          "text": [
            "[30 40 50 60]\n"
          ]
        }
      ]
    },
    {
      "cell_type": "code",
      "source": [
        "array_1=[24,4,4,3,33,213,2323]\n",
        "print(type(array_1))\n",
        "array_2=np.array([10,20,30,40,50,60])\n",
        "print(type(array_2))\n"
      ],
      "metadata": {
        "colab": {
          "base_uri": "https://localhost:8080/"
        },
        "id": "qAoBZ3-TnnNX",
        "outputId": "e6771855-32e5-48ed-aca1-b9152eb7ddfd"
      },
      "execution_count": 32,
      "outputs": [
        {
          "output_type": "stream",
          "name": "stdout",
          "text": [
            "<class 'list'>\n",
            "<class 'numpy.ndarray'>\n"
          ]
        }
      ]
    }
  ]
}
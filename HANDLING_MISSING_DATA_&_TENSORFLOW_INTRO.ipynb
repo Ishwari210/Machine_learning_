{
  "nbformat": 4,
  "nbformat_minor": 0,
  "metadata": {
    "colab": {
      "provenance": []
    },
    "kernelspec": {
      "name": "python3",
      "display_name": "Python 3"
    },
    "language_info": {
      "name": "python"
    }
  },
  "cells": [
    {
      "cell_type": "markdown",
      "source": [
        "**HANDLING MISSING DATA**"
      ],
      "metadata": {
        "id": "oTfS0oH6tpB5"
      }
    },
    {
      "cell_type": "code",
      "source": [
        "import pandas as pd\n",
        "import numpy as np\n",
        "\n",
        "data={\n",
        "    \"Name\":[\"ALICE\",\"BOB\",\"CHARLIE\",\"ARCAMIDE\"],\n",
        "    \"Age\":[23,24,55,12],\n",
        "    \"Salary\":[10000,20000,43000,55000]\n",
        "}\n",
        "dataframe=pd.DataFrame(data)\n",
        "print(dataframe)"
      ],
      "metadata": {
        "colab": {
          "base_uri": "https://localhost:8080/"
        },
        "id": "k_MgbHNvtt5x",
        "outputId": "de821e3d-4b2b-4bc0-89da-3b11ee49b9fc"
      },
      "execution_count": null,
      "outputs": [
        {
          "output_type": "stream",
          "name": "stdout",
          "text": [
            "       Name  Age  Salary\n",
            "0     ALICE   23   10000\n",
            "1       BOB   24   20000\n",
            "2   CHARLIE   55   43000\n",
            "3  ARCAMIDE   12   55000\n"
          ]
        }
      ]
    },
    {
      "cell_type": "code",
      "source": [
        "print(dataframe.isna())"
      ],
      "metadata": {
        "colab": {
          "base_uri": "https://localhost:8080/"
        },
        "id": "LGrXMG73uXx0",
        "outputId": "8f27f40b-e2b7-4d44-de99-2330ee6d8006"
      },
      "execution_count": null,
      "outputs": [
        {
          "output_type": "stream",
          "name": "stdout",
          "text": [
            "    Name    Age  Salary\n",
            "0  False  False   False\n",
            "1  False  False   False\n",
            "2  False  False   False\n",
            "3  False  False   False\n"
          ]
        }
      ]
    },
    {
      "cell_type": "code",
      "source": [
        "data_clean=dataframe.dropna()\n",
        "print(data_clean)"
      ],
      "metadata": {
        "colab": {
          "base_uri": "https://localhost:8080/"
        },
        "id": "x4DKov6fuoiP",
        "outputId": "9b7e6a79-bbff-498d-8835-ba9ce96eb577"
      },
      "execution_count": null,
      "outputs": [
        {
          "output_type": "stream",
          "name": "stdout",
          "text": [
            "       Name  Age  Salary\n",
            "0     ALICE   23   10000\n",
            "1       BOB   24   20000\n",
            "2   CHARLIE   55   43000\n",
            "3  ARCAMIDE   12   55000\n"
          ]
        }
      ]
    },
    {
      "cell_type": "code",
      "source": [
        "data_clean=dataframe.dropna(axis=1)\n",
        "print(data_clean)"
      ],
      "metadata": {
        "colab": {
          "base_uri": "https://localhost:8080/"
        },
        "id": "JwJpqoV5u05B",
        "outputId": "745119b6-ebd5-4f24-dd8e-fb5cfd129fad"
      },
      "execution_count": null,
      "outputs": [
        {
          "output_type": "stream",
          "name": "stdout",
          "text": [
            "       Name  Age  Salary\n",
            "0     ALICE   23   10000\n",
            "1       BOB   24   20000\n",
            "2   CHARLIE   55   43000\n",
            "3  ARCAMIDE   12   55000\n"
          ]
        }
      ]
    },
    {
      "cell_type": "markdown",
      "source": [
        "**FILL Na**\n",
        "* fillna(value): It will replace missing values\n",
        "* fillna(method='ffill'):Forwardfill.It will fill the values from previous value\n",
        "* fillna(method='bfill'):Backwardfill.It will fill values from next row"
      ],
      "metadata": {
        "id": "6vQCN956vUbE"
      }
    },
    {
      "cell_type": "code",
      "source": [
        "data_filled=dataframe.fillna({'Age':dataframe['Age'].mean(),'Salary':0})\n",
        "print(\"DataFrame:\",dataframe)\n",
        "print(data_filled)"
      ],
      "metadata": {
        "colab": {
          "base_uri": "https://localhost:8080/"
        },
        "id": "P12ub54yv6l9",
        "outputId": "4c0ebd8d-e6fd-4ee1-e9e1-445a8830b935"
      },
      "execution_count": null,
      "outputs": [
        {
          "output_type": "stream",
          "name": "stdout",
          "text": [
            "DataFrame:        Name  Age  Salary\n",
            "0     ALICE   23   10000\n",
            "1       BOB   24   20000\n",
            "2   CHARLIE   55   43000\n",
            "3  ARCAMIDE   12   55000\n",
            "       Name  Age  Salary\n",
            "0     ALICE   23   10000\n",
            "1       BOB   24   20000\n",
            "2   CHARLIE   55   43000\n",
            "3  ARCAMIDE   12   55000\n"
          ]
        }
      ]
    },
    {
      "cell_type": "code",
      "source": [
        "data_filled=dataframe.fillna(method='ffill')\n",
        "print(data_filled)"
      ],
      "metadata": {
        "colab": {
          "base_uri": "https://localhost:8080/"
        },
        "id": "0AWgRCW2wmo1",
        "outputId": "474b610b-774e-42b4-d872-dd467bb24152"
      },
      "execution_count": null,
      "outputs": [
        {
          "output_type": "stream",
          "name": "stdout",
          "text": [
            "       Name  Age  Salary\n",
            "0     ALICE   23   10000\n",
            "1       BOB   24   20000\n",
            "2   CHARLIE   55   43000\n",
            "3  ARCAMIDE   12   55000\n"
          ]
        },
        {
          "output_type": "stream",
          "name": "stderr",
          "text": [
            "<ipython-input-6-f3980fc6a4a9>:1: FutureWarning: DataFrame.fillna with 'method' is deprecated and will raise in a future version. Use obj.ffill() or obj.bfill() instead.\n",
            "  data_filled=dataframe.fillna(method='ffill')\n"
          ]
        }
      ]
    },
    {
      "cell_type": "code",
      "source": [
        "data_filled=dataframe.bfill()\n",
        "print(data_filled)"
      ],
      "metadata": {
        "colab": {
          "base_uri": "https://localhost:8080/"
        },
        "id": "q9aldceOwyqg",
        "outputId": "7c4fdc34-80b7-4772-863f-cc59c14267b1"
      },
      "execution_count": null,
      "outputs": [
        {
          "output_type": "stream",
          "name": "stdout",
          "text": [
            "       Name  Age  Salary\n",
            "0     ALICE   23   10000\n",
            "1       BOB   24   20000\n",
            "2   CHARLIE   55   43000\n",
            "3  ARCAMIDE   12   55000\n"
          ]
        }
      ]
    },
    {
      "cell_type": "markdown",
      "source": [
        "**INTERPOLATION**\n",
        "\n"
      ],
      "metadata": {
        "id": "ard9ryHVxDQe"
      }
    },
    {
      "cell_type": "code",
      "source": [
        "data_interpolated=dataframe.infer_objects(copy=False)\n",
        "print(data_interpolated)"
      ],
      "metadata": {
        "colab": {
          "base_uri": "https://localhost:8080/"
        },
        "id": "g9mL4aAWxjRc",
        "outputId": "664aeb11-c70e-4794-cd41-13935094ac34"
      },
      "execution_count": null,
      "outputs": [
        {
          "output_type": "stream",
          "name": "stdout",
          "text": [
            "       Name  Age  Salary\n",
            "0     ALICE   23   10000\n",
            "1       BOB   24   20000\n",
            "2   CHARLIE   55   43000\n",
            "3  ARCAMIDE   12   55000\n"
          ]
        }
      ]
    },
    {
      "cell_type": "code",
      "source": [
        "print(dataframe.isna().sum())"
      ],
      "metadata": {
        "colab": {
          "base_uri": "https://localhost:8080/"
        },
        "id": "4xkdLjFJx4Lw",
        "outputId": "01733a53-87bd-4f9a-8f56-70fc47202390"
      },
      "execution_count": null,
      "outputs": [
        {
          "output_type": "stream",
          "name": "stdout",
          "text": [
            "Name      0\n",
            "Age       0\n",
            "Salary    0\n",
            "dtype: int64\n"
          ]
        }
      ]
    },
    {
      "cell_type": "markdown",
      "source": [
        "**TENSORFLOW**\n",
        "Tensor: Multidimensional array\n",
        "Data gathering: Collect Data\n",
        "Data cleansing: Scaling, Normalisation, Unnecessary Data\n",
        "Optimization\n",
        "\n",
        "1. Model: Neural Network\n",
        "2. Compile\n",
        "3. Fit: Train\n",
        "4. Optimize\n",
        "5. Predict\n",
        "\n",
        "Image Collection=>Vectorized Operation Cleansing=>Remove Unnecessary Data=>Labelled Data=>Neural Network=>Train=>Prediction"
      ],
      "metadata": {
        "id": "ii0cy9LJyqaK"
      }
    },
    {
      "cell_type": "code",
      "source": [
        "import pandas as pd\n",
        "data=pd.read_csv('/content/city_temperature.csv')\n",
        "\n",
        "print(data)"
      ],
      "metadata": {
        "id": "90BcahqXzmd6",
        "colab": {
          "base_uri": "https://localhost:8080/"
        },
        "outputId": "e45e4041-e1c8-446c-b483-e6d298fae14c"
      },
      "execution_count": 4,
      "outputs": [
        {
          "output_type": "stream",
          "name": "stderr",
          "text": [
            "<ipython-input-4-db7fd60bab6c>:2: DtypeWarning: Columns (2) have mixed types. Specify dtype option on import or set low_memory=False.\n",
            "  data=pd.read_csv('/content/city_temperature.csv')\n"
          ]
        },
        {
          "output_type": "stream",
          "name": "stdout",
          "text": [
            "                Region  Country                   State                  City  \\\n",
            "0               Africa  Algeria                     NaN               Algiers   \n",
            "1               Africa  Algeria                     NaN               Algiers   \n",
            "2               Africa  Algeria                     NaN               Algiers   \n",
            "3               Africa  Algeria                     NaN               Algiers   \n",
            "4               Africa  Algeria                     NaN               Algiers   \n",
            "...                ...      ...                     ...                   ...   \n",
            "2906322  North America       US  Additional Territories  San Juan Puerto Rico   \n",
            "2906323  North America       US  Additional Territories  San Juan Puerto Rico   \n",
            "2906324  North America       US  Additional Territories  San Juan Puerto Rico   \n",
            "2906325  North America       US  Additional Territories  San Juan Puerto Rico   \n",
            "2906326  North America       US  Additional Territories  San Juan Puerto Rico   \n",
            "\n",
            "         Month  Day  Year  AvgTemperature  \n",
            "0            1    1  1995            64.2  \n",
            "1            1    2  1995            49.4  \n",
            "2            1    3  1995            48.8  \n",
            "3            1    4  1995            46.4  \n",
            "4            1    5  1995            47.9  \n",
            "...        ...  ...   ...             ...  \n",
            "2906322      7   27  2013            82.4  \n",
            "2906323      7   28  2013            81.6  \n",
            "2906324      7   29  2013            84.2  \n",
            "2906325      7   30  2013            83.8  \n",
            "2906326      7   31  2013            83.6  \n",
            "\n",
            "[2906327 rows x 8 columns]\n"
          ]
        }
      ]
    }
  ]
}
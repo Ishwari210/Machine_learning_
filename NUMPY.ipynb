{
  "nbformat": 4,
  "nbformat_minor": 0,
  "metadata": {
    "colab": {
      "provenance": []
    },
    "kernelspec": {
      "name": "python3",
      "display_name": "Python 3"
    },
    "language_info": {
      "name": "python"
    }
  },
  "cells": [
    {
      "cell_type": "markdown",
      "source": [
        "**NUMPY**"
      ],
      "metadata": {
        "id": "LSaWhEWsXa1E"
      }
    },
    {
      "cell_type": "markdown",
      "source": [
        "\n",
        "1.   EVERY ELEMENT IN AN ARRAY HAS A DATA TYPE\n",
        "2.   IT NEEDS TO BE IN A ALLOCATED MEMORY\n",
        "3.   NUMPY WORKS ON A SINGLE DATASTRUCTURE WHICH IS NDarray\n",
        "\n",
        "\n",
        "\n",
        "\n",
        "\n",
        "\n"
      ],
      "metadata": {
        "id": "s8VBFVFZXhi3"
      }
    },
    {
      "cell_type": "markdown",
      "source": [
        "**CODE EFFICIENCY**"
      ],
      "metadata": {
        "id": "cwu4cDaVYvXz"
      }
    },
    {
      "cell_type": "markdown",
      "source": [
        "\n",
        "\n",
        "*   Time Complexity\n",
        "*   Space Complexity\n",
        "\n"
      ],
      "metadata": {
        "id": "Nslz68yKY29c"
      }
    },
    {
      "cell_type": "code",
      "source": [
        "import numpy as np\n",
        "array=np.array([1,2,3,4,5])\n",
        "print(array)"
      ],
      "metadata": {
        "colab": {
          "base_uri": "https://localhost:8080/"
        },
        "id": "WxUafknAZD3x",
        "outputId": "6e4bd481-0929-4a2b-d229-71e348fde171"
      },
      "execution_count": 1,
      "outputs": [
        {
          "output_type": "stream",
          "name": "stdout",
          "text": [
            "[1 2 3 4 5]\n"
          ]
        }
      ]
    },
    {
      "cell_type": "code",
      "source": [
        "print(array.dtype)"
      ],
      "metadata": {
        "colab": {
          "base_uri": "https://localhost:8080/"
        },
        "id": "6z53iDoGZ8Ek",
        "outputId": "5fec193b-445b-46ef-87aa-180340ae7d94"
      },
      "execution_count": 2,
      "outputs": [
        {
          "output_type": "stream",
          "name": "stdout",
          "text": [
            "int64\n"
          ]
        }
      ]
    },
    {
      "cell_type": "code",
      "source": [
        "array_new=np.array([1,2,3,4,5],dtype='S')\n",
        "print(array_new)\n",
        "print(array_new.dtype)"
      ],
      "metadata": {
        "colab": {
          "base_uri": "https://localhost:8080/"
        },
        "id": "qUiDrZdgaA8K",
        "outputId": "caecd861-cae3-486c-9fdd-0125086f9028"
      },
      "execution_count": 4,
      "outputs": [
        {
          "output_type": "stream",
          "name": "stdout",
          "text": [
            "[b'1' b'2' b'3' b'4' b'5']\n",
            "|S1\n"
          ]
        }
      ]
    },
    {
      "cell_type": "code",
      "source": [
        "array_4b=np.array([1,2,3,4,5],dtype='i4')\n",
        "print(array_4b)\n",
        "print(array_4b.dtype)"
      ],
      "metadata": {
        "colab": {
          "base_uri": "https://localhost:8080/"
        },
        "id": "tRfgJ55Ia1SD",
        "outputId": "7a8b34f4-fb98-44ae-8ae8-4291d238f4c6"
      },
      "execution_count": 6,
      "outputs": [
        {
          "output_type": "stream",
          "name": "stdout",
          "text": [
            "[1 2 3 4 5]\n",
            "int32\n"
          ]
        }
      ]
    },
    {
      "cell_type": "markdown",
      "source": [
        "**VECTORIZED OPERATIONS**"
      ],
      "metadata": {
        "id": "k3gYZVTtcHEa"
      }
    },
    {
      "cell_type": "code",
      "source": [
        "import numpy as np\n",
        "a=np.array([1,2,3])\n",
        "b=np.array([4,5,6])\n",
        "c=a+b\n",
        "print(c)"
      ],
      "metadata": {
        "colab": {
          "base_uri": "https://localhost:8080/"
        },
        "id": "JP9rBlr-cMEP",
        "outputId": "59f65eaf-e60e-4d64-aa94-d53c1d83bde6"
      },
      "execution_count": 7,
      "outputs": [
        {
          "output_type": "stream",
          "name": "stdout",
          "text": [
            "[5 7 9]\n"
          ]
        }
      ]
    },
    {
      "cell_type": "markdown",
      "source": [
        "**BROADCASTING CONCEPT**"
      ],
      "metadata": {
        "id": "ncbffONQc8Ye"
      }
    },
    {
      "cell_type": "code",
      "source": [
        "import numpy as np\n",
        "a=np.array([[1],[2],[3]])\n",
        "b=np.array([4,5,6])\n",
        "c=a+b\n",
        "print(c)"
      ],
      "metadata": {
        "colab": {
          "base_uri": "https://localhost:8080/"
        },
        "id": "O9RxyvVQcjAq",
        "outputId": "c2603ffa-2800-4281-df02-0a8e91f88d8e"
      },
      "execution_count": 8,
      "outputs": [
        {
          "output_type": "stream",
          "name": "stdout",
          "text": [
            "[[5 6 7]\n",
            " [6 7 8]\n",
            " [7 8 9]]\n"
          ]
        }
      ]
    },
    {
      "cell_type": "markdown",
      "source": [
        "## **FUNCTIONS IN NUMPY**\n",
        "# 1.SLICE\n",
        "# 2.SPLIT\n",
        "# 3.JOIN\n",
        "# 4.RESHAPE\n",
        "# 5.SHAPE\n",
        "# 6.ARRAY\n",
        "# 7.ITERATOR: ndITER"
      ],
      "metadata": {
        "id": "AZZqvV9SdHLC"
      }
    },
    {
      "cell_type": "code",
      "source": [],
      "metadata": {
        "id": "h7HqNcWfduyI"
      },
      "execution_count": null,
      "outputs": []
    },
    {
      "cell_type": "markdown",
      "source": [
        "SLICE\n",
        "\n",
        "1.   Start:Index from where to start,default=0\n",
        "2.   Stop:Index where to end,default=[end of the array]\n",
        "3.   Step:Step is size for which need to return values.\n",
        "\n"
      ],
      "metadata": {
        "id": "JrObAY98eL4z"
      }
    },
    {
      "cell_type": "code",
      "source": [
        "import numpy as np\n",
        "array_slice=np.array([1,2,3,4,5,5,6,7,7,8,9])\n",
        "print(array_slice[1:4])"
      ],
      "metadata": {
        "colab": {
          "base_uri": "https://localhost:8080/"
        },
        "id": "6ALptWVDepWT",
        "outputId": "35c90653-289c-464e-daef-82757abd26e3"
      },
      "execution_count": 9,
      "outputs": [
        {
          "output_type": "stream",
          "name": "stdout",
          "text": [
            "[2 3 4]\n"
          ]
        }
      ]
    },
    {
      "cell_type": "code",
      "source": [
        "array_slice=np.array([1,2,3,4,5,5,6,7,7,8,9])\n",
        "print(\"Default\",array_slice[1:5])"
      ],
      "metadata": {
        "colab": {
          "base_uri": "https://localhost:8080/"
        },
        "id": "zNziZgumdb8L",
        "outputId": "a2b6cbed-ff6b-42ee-aa2c-9c81891474a5"
      },
      "execution_count": 10,
      "outputs": [
        {
          "output_type": "stream",
          "name": "stdout",
          "text": [
            "Default [2 3 4 5]\n"
          ]
        }
      ]
    },
    {
      "cell_type": "code",
      "source": [
        "array_slice=np.array([1,2,3,4,5,5,6,7,7,8,9])\n",
        "print(array_slice[::4])"
      ],
      "metadata": {
        "colab": {
          "base_uri": "https://localhost:8080/"
        },
        "id": "DQ5GA_RpfNga",
        "outputId": "a0e86462-2be8-4c47-cba3-bca0eb35103c"
      },
      "execution_count": 11,
      "outputs": [
        {
          "output_type": "stream",
          "name": "stdout",
          "text": [
            "[1 5 7]\n"
          ]
        }
      ]
    },
    {
      "cell_type": "code",
      "source": [
        "array_slice=np.array([1,2,3,4,5,5,6,7,7,8,9])\n",
        "print(array_slice[::-1])"
      ],
      "metadata": {
        "colab": {
          "base_uri": "https://localhost:8080/"
        },
        "id": "j6w-bxB4feOV",
        "outputId": "683a7451-97f4-471a-e2d8-017235bab8a4"
      },
      "execution_count": 12,
      "outputs": [
        {
          "output_type": "stream",
          "name": "stdout",
          "text": [
            "[9 8 7 7 6 5 5 4 3 2 1]\n"
          ]
        }
      ]
    },
    {
      "cell_type": "markdown",
      "source": [
        "**2D ARRAY**"
      ],
      "metadata": {
        "id": "xejrko4efxgT"
      }
    },
    {
      "cell_type": "code",
      "source": [
        "array=np.array([[1,2,3,4],\n",
        " [5,6,7,8],\n",
        "  [3,7,8,5]])\n",
        "print(array[1,2])\n",
        "print(array[::-1,::-1])\n",
        "print(array[1::])\n",
        "\n"
      ],
      "metadata": {
        "colab": {
          "base_uri": "https://localhost:8080/"
        },
        "id": "GZwOxUPAfldb",
        "outputId": "7960ff2c-3c90-4311-eeb8-ba42ea33e08d"
      },
      "execution_count": 15,
      "outputs": [
        {
          "output_type": "stream",
          "name": "stdout",
          "text": [
            "7\n",
            "[[5 8 7 3]\n",
            " [8 7 6 5]\n",
            " [4 3 2 1]]\n",
            "[[5 6 7 8]\n",
            " [3 7 8 5]]\n"
          ]
        }
      ]
    },
    {
      "cell_type": "markdown",
      "source": [
        "**3D ARRAY**"
      ],
      "metadata": {
        "id": "_pKOxq4FhG6N"
      }
    },
    {
      "cell_type": "code",
      "source": [
        "array_3d=np.array([[1,2,3],\n",
        " [3,4,5],\n",
        "  [7,8,9],\n",
        "                   [10,11,12]])\n",
        "print(array_3d[0::])"
      ],
      "metadata": {
        "colab": {
          "base_uri": "https://localhost:8080/"
        },
        "id": "jqWITikuhJtj",
        "outputId": "b2d1da7f-42f3-499d-cddd-b32960255b16"
      },
      "execution_count": 17,
      "outputs": [
        {
          "output_type": "stream",
          "name": "stdout",
          "text": [
            "[[ 1  2  3]\n",
            " [ 3  4  5]\n",
            " [ 7  8  9]\n",
            " [10 11 12]]\n"
          ]
        }
      ]
    }
  ]
}